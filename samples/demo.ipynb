import utilities

hdfs_conn = utilities.get_hdfs_conn_obj('system_spark_hdfs')
print(hdfs_conn)

df = utilities.get_df('test_utils_hdfs_file')
print(df)
